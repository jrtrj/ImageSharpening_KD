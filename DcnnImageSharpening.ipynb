{
  "nbformat": 4,
  "nbformat_minor": 0,
  "metadata": {
    "colab": {
      "provenance": [],
      "gpuType": "T4"
    },
    "kernelspec": {
      "name": "python3",
      "display_name": "Python 3"
    },
    "language_info": {
      "name": "python"
    },
    "accelerator": "GPU"
  },
  "cells": [
    {
      "cell_type": "code",
      "execution_count": null,
      "metadata": {
        "id": "ZgCzTfKcluyD"
      },
      "outputs": [],
      "source": [
        "import os\n",
        "import cv2\n",
        "import glob\n",
        "import numpy as np\n",
        "import torch\n",
        "import torch.nn as nn\n",
        "import torch.optim as optim\n",
        "from torch.utils.data import Dataset, DataLoader\n",
        "import torchvision.transforms as transforms\n",
        "from skimage.metrics import structural_similarity as ssim\n",
        "import matplotlib.pyplot as plt"
      ]
    },
    {
      "cell_type": "code",
      "source": [
        "class DIV2KDataset(Dataset):\n",
        "    def __init__(self, hr_dir, transform=None):\n",
        "        self.hr_paths = sorted(glob.glob(os.path.join(hr_dir, \"*.png\")))\n",
        "        self.transform = transform\n",
        "\n",
        "    def __len__(self):\n",
        "        return len(self.hr_paths)\n",
        "\n",
        "    def __getitem__(self, idx):\n",
        "        img_hr = cv2.imread(self.hr_paths[idx])\n",
        "        img_hr = cv2.cvtColor(img_hr, cv2.COLOR_BGR2RGB)\n",
        "        img_hr = cv2.resize(img_hr, (128, 128))  # Manage memory\n",
        "\n",
        "        img_lr = cv2.resize(img_hr, (64, 64), interpolation=cv2.INTER_CUBIC)\n",
        "        img_blur = cv2.resize(img_lr, (128, 128), interpolation=cv2.INTER_CUBIC)\n",
        "\n",
        "        if self.transform:\n",
        "            img_hr = self.transform(img_hr)\n",
        "            img_blur = self.transform(img_blur)\n",
        "\n",
        "        return img_blur, img_hr\n"
      ],
      "metadata": {
        "id": "CxDttVfXUY4i"
      },
      "execution_count": null,
      "outputs": []
    },
    {
      "cell_type": "code",
      "source": [
        "class DnCNN(nn.Module):\n",
        "    def __init__(self):\n",
        "        super(DnCNN, self).__init__()\n",
        "        self.body = nn.Sequential(\n",
        "            nn.Conv2d(3, 64, 3, padding=1), nn.ReLU(inplace=True),\n",
        "            *[nn.Sequential(nn.Conv2d(64, 64, 3, padding=1), nn.BatchNorm2d(64), nn.ReLU(inplace=True)) for _ in range(5)],\n",
        "            nn.Conv2d(64, 3, 3, padding=1)\n",
        "        )\n",
        "\n",
        "    def forward(self, x):\n",
        "        return x - self.body(x)\n"
      ],
      "metadata": {
        "id": "2nFukMmuVr4N"
      },
      "execution_count": null,
      "outputs": []
    },
    {
      "cell_type": "code",
      "source": [
        "transform = transforms.Compose([\n",
        "    transforms.ToTensor()\n",
        "])\n",
        "\n",
        "data_dir = \"/content/DIV2K_train_HR\"\n",
        "dataset = DIV2KDataset(data_dir, transform)\n",
        "train_loader = DataLoader(dataset, batch_size=8, shuffle=True)\n"
      ],
      "metadata": {
        "id": "pkqcgI1FV3EN"
      },
      "execution_count": null,
      "outputs": []
    },
    {
      "cell_type": "code",
      "source": [
        "teacher_model = DnCNN().to(\"cuda\")\n",
        "criterion = nn.MSELoss()\n",
        "optimizer = optim.Adam(teacher_model.parameters(), lr=1e-4)\n",
        "epochs = 10\n",
        "\n",
        "for epoch in range(epochs):\n",
        "    teacher_model.train()\n",
        "    running_loss = 0.0\n",
        "    for inputs, targets in train_loader:\n",
        "        inputs, targets = inputs.to(\"cuda\"), targets.to(\"cuda\")\n",
        "        optimizer.zero_grad()\n",
        "        outputs = teacher_model(inputs)\n",
        "        loss = criterion(outputs, targets)\n",
        "        loss.backward()\n",
        "        optimizer.step()\n",
        "        running_loss += loss.item()\n",
        "\n",
        "    avg_loss = running_loss / len(train_loader)\n",
        "    print(f\"Epoch {epoch+1}/{epochs} | Loss: {avg_loss:.4f}\")\n"
      ],
      "metadata": {
        "colab": {
          "base_uri": "https://localhost:8080/"
        },
        "id": "MbsYtYplYTSc",
        "outputId": "b29a1c17-ec2d-4c14-f807-823bac825230"
      },
      "execution_count": null,
      "outputs": [
        {
          "output_type": "stream",
          "name": "stdout",
          "text": [
            "Epoch 1/10 | Loss: 0.0228\n",
            "Epoch 2/10 | Loss: 0.0103\n",
            "Epoch 3/10 | Loss: 0.0098\n",
            "Epoch 4/10 | Loss: 0.0097\n",
            "Epoch 5/10 | Loss: 0.0096\n",
            "Epoch 6/10 | Loss: 0.0095\n",
            "Epoch 7/10 | Loss: 0.0094\n",
            "Epoch 8/10 | Loss: 0.0094\n",
            "Epoch 9/10 | Loss: 0.0094\n",
            "Epoch 10/10 | Loss: 0.0094\n"
          ]
        }
      ]
    },
    {
      "cell_type": "code",
      "source": [
        "torch.save(teacher_model.state_dict(), \"dncnn_teacher.pth\")"
      ],
      "metadata": {
        "id": "nFMuc33vc06s"
      },
      "execution_count": null,
      "outputs": []
    },
    {
      "cell_type": "code",
      "source": [
        "# SSIM Evaluation\n",
        "def average_ssim(model, dataset, num_samples=100):\n",
        "    model.eval()\n",
        "    total_ssim = 0.0\n",
        "    device = next(model.parameters()).device\n",
        "    for i in range(min(num_samples, len(dataset))):\n",
        "        inp, gt = dataset[i]\n",
        "        inp_tensor = inp.unsqueeze(0).to(device)\n",
        "        with torch.no_grad():\n",
        "            out = model(inp_tensor).cpu().squeeze(0).permute(1, 2, 0).numpy()\n",
        "        gt = gt.permute(1, 2, 0).numpy()\n",
        "        ssim_val = ssim(gt, out, channel_axis=2, data_range=1.0)\n",
        "        total_ssim += ssim_val\n",
        "    return total_ssim / min(num_samples, len(dataset))"
      ],
      "metadata": {
        "id": "A65klQVWdstx"
      },
      "execution_count": null,
      "outputs": []
    },
    {
      "cell_type": "code",
      "source": [
        "# Evaluate Teacher SSIM\n",
        "teacher_model.eval()\n",
        "teacher_ssim = average_ssim(teacher_model, dataset, num_samples=50)\n",
        "print(f\"Teacher Average SSIM: {teacher_ssim:.4f}\")\n"
      ],
      "metadata": {
        "colab": {
          "base_uri": "https://localhost:8080/"
        },
        "id": "E5-3cbfKlTs6",
        "outputId": "dfaecdbc-5c05-4d00-ffff-250dc1003bc8"
      },
      "execution_count": null,
      "outputs": [
        {
          "output_type": "stream",
          "name": "stdout",
          "text": [
            "Teacher Average SSIM: 0.7327\n"
          ]
        }
      ]
    },
    {
      "cell_type": "code",
      "source": [
        "# Student Model\n",
        "class StudentCNN(nn.Module):\n",
        "    def __init__(self):\n",
        "        super(StudentCNN, self).__init__()\n",
        "        self.body = nn.Sequential(\n",
        "            nn.Conv2d(3, 32, 3, padding=1), nn.ReLU(inplace=True),\n",
        "            nn.Conv2d(32, 32, 3, padding=1), nn.ReLU(inplace=True),\n",
        "            nn.Conv2d(32, 3, 3, padding=1)\n",
        "        )\n",
        "    def forward(self, x):\n",
        "        return x - self.body(x)"
      ],
      "metadata": {
        "id": "diwYyasCpzTU"
      },
      "execution_count": null,
      "outputs": []
    },
    {
      "cell_type": "code",
      "source": [
        "# Distillation Loss = alpha * MSE(Student, Teacher) + (1-alpha) * MSE(Student, GroundTruth)\n",
        "def distillation_loss(student_out, teacher_out, target, alpha=0.7):\n",
        "    loss_gt = nn.MSELoss()(student_out, target)\n",
        "    loss_teacher = nn.MSELoss()(student_out, teacher_out)\n",
        "    return alpha * loss_teacher + (1 - alpha) * loss_gt\n"
      ],
      "metadata": {
        "id": "hHAMoldVp-vw"
      },
      "execution_count": null,
      "outputs": []
    },
    {
      "cell_type": "code",
      "source": [
        "# Train Student Model Using Teacher\n",
        "teacher_model.eval()\n",
        "student_model = StudentCNN().to(device)\n",
        "optimizer = optim.Adam(student_model.parameters(), lr=1e-4)\n",
        "epochs = 10\n",
        "\n",
        "for epoch in range(epochs):\n",
        "    student_model.train()\n",
        "    running_loss = 0.0\n",
        "    for inputs, targets in train_loader:\n",
        "        inputs, targets = inputs.to(device), targets.to(device)\n",
        "        with torch.no_grad():\n",
        "            teacher_out = teacher_model(inputs)\n",
        "        student_out = student_model(inputs)\n",
        "        loss = distillation_loss(student_out, teacher_out, targets)\n",
        "        optimizer.zero_grad()\n",
        "        loss.backward()\n",
        "        optimizer.step()\n",
        "        running_loss += loss.item()\n",
        "    print(f\"[Student] Epoch {epoch+1}/{epochs} | Loss: {running_loss/len(train_loader):.4f}\")\n",
        "\n",
        "torch.save(student_model.state_dict(), \"student_dncnn.pth\")\n"
      ],
      "metadata": {
        "colab": {
          "base_uri": "https://localhost:8080/"
        },
        "id": "lVkYPNtZqM68",
        "outputId": "6ebfcb55-bb0e-4e28-e4ae-510c67aff80e"
      },
      "execution_count": null,
      "outputs": [
        {
          "output_type": "stream",
          "name": "stdout",
          "text": [
            "[Student] Epoch 1/10 | Loss: 0.0034\n",
            "[Student] Epoch 2/10 | Loss: 0.0030\n",
            "[Student] Epoch 3/10 | Loss: 0.0029\n",
            "[Student] Epoch 4/10 | Loss: 0.0029\n",
            "[Student] Epoch 5/10 | Loss: 0.0029\n",
            "[Student] Epoch 6/10 | Loss: 0.0029\n",
            "[Student] Epoch 7/10 | Loss: 0.0029\n",
            "[Student] Epoch 8/10 | Loss: 0.0029\n",
            "[Student] Epoch 9/10 | Loss: 0.0029\n",
            "[Student] Epoch 10/10 | Loss: 0.0029\n",
            "Student model saved.\n"
          ]
        }
      ]
    },
    {
      "cell_type": "code",
      "source": [
        "# Student SSIM\n",
        "student_model.eval()\n",
        "student_ssim = average_ssim(student_model, dataset, num_samples=50)\n",
        "print(f\"Student Average SSIM: {student_ssim:.4f}\")\n"
      ],
      "metadata": {
        "colab": {
          "base_uri": "https://localhost:8080/"
        },
        "id": "rVxfv4VZtr1m",
        "outputId": "99a1f623-95ec-4974-b48b-d83c573ecde2"
      },
      "execution_count": null,
      "outputs": [
        {
          "output_type": "stream",
          "name": "stdout",
          "text": [
            "Student Average SSIM: 0.7386\n"
          ]
        }
      ]
    }
  ]
}