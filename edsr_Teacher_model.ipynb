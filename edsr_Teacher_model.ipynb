{
  "nbformat": 4,
  "nbformat_minor": 0,
  "metadata": {
    "colab": {
      "provenance": [],
      "authorship_tag": "ABX9TyPY5gi2VAW0frWYQke00Aqt",
      "include_colab_link": true
    },
    "kernelspec": {
      "name": "python3",
      "display_name": "Python 3"
    },
    "language_info": {
      "name": "python"
    }
  },
  "cells": [
    {
      "cell_type": "markdown",
      "metadata": {
        "id": "view-in-github",
        "colab_type": "text"
      },
      "source": [
        "<a href=\"https://colab.research.google.com/github/jrtrj/ImageSharpening_KD/blob/edsr/edsr_Teacher_model.ipynb\" target=\"_parent\"><img src=\"https://colab.research.google.com/assets/colab-badge.svg\" alt=\"Open In Colab\"/></a>"
      ]
    },
    {
      "cell_type": "code",
      "execution_count": null,
      "metadata": {
        "colab": {
          "base_uri": "https://localhost:8080/"
        },
        "id": "ZCAMZ2SPVKZf",
        "outputId": "392d59b1-552e-4632-830d-68561fe4f124"
      },
      "outputs": [
        {
          "output_type": "stream",
          "name": "stdout",
          "text": [
            "Cloning into 'EDSR-PyTorch'...\n",
            "remote: Enumerating objects: 806, done.\u001b[K\n",
            "remote: Total 806 (delta 0), reused 0 (delta 0), pack-reused 806 (from 1)\u001b[K\n",
            "Receiving objects: 100% (806/806), 63.09 MiB | 50.75 MiB/s, done.\n",
            "Resolving deltas: 100% (516/516), done.\n",
            "/content/EDSR-PyTorch\n"
          ]
        }
      ],
      "source": [
        "!git clone https://github.com/sanghyun-son/EDSR-PyTorch.git\n",
        "%cd EDSR-PyTorch\n"
      ]
    },
    {
      "cell_type": "markdown",
      "source": [
        "for the below pretrained weights,\n",
        "in the model args add this\n",
        "args.scale = [2]\n",
        "args.n_resblocks = 16\n",
        "args.n_feats = 64\n"
      ],
      "metadata": {
        "id": "0z99isBHr2GL"
      }
    },
    {
      "cell_type": "code",
      "source": [
        "\n",
        "!wget https://cv.snu.ac.kr/research/EDSR/models/edsr_baseline_x2-1bc95232.pt"
      ],
      "metadata": {
        "colab": {
          "base_uri": "https://localhost:8080/"
        },
        "id": "AIlcf86QVZ2G",
        "outputId": "91b8ca5e-d837-4194-b5d9-a22b7525255e"
      },
      "execution_count": null,
      "outputs": [
        {
          "output_type": "stream",
          "name": "stdout",
          "text": [
            "--2025-07-02 18:35:04--  https://cv.snu.ac.kr/research/EDSR/models/edsr_baseline_x2-1bc95232.pt\n",
            "Resolving cv.snu.ac.kr (cv.snu.ac.kr)... 147.46.67.83\n",
            "Connecting to cv.snu.ac.kr (cv.snu.ac.kr)|147.46.67.83|:443... connected.\n",
            "HTTP request sent, awaiting response... 200 OK\n",
            "Length: 5490680 (5.2M)\n",
            "Saving to: ‘edsr_baseline_x2-1bc95232.pt’\n",
            "\n",
            "edsr_baseline_x2-1b 100%[===================>]   5.24M  2.29MB/s    in 2.3s    \n",
            "\n",
            "2025-07-02 18:35:07 (2.29 MB/s) - ‘edsr_baseline_x2-1bc95232.pt’ saved [5490680/5490680]\n",
            "\n"
          ]
        }
      ]
    },
    {
      "cell_type": "markdown",
      "source": [
        "for the below pretrained weights,\n",
        "in the model args add this\n",
        "args.scale = [4]\n",
        "args.n_resblocks = 16\n",
        "args.n_feats = 64\n",
        "\n",
        "with this i am getting ssim of 90"
      ],
      "metadata": {
        "id": "FOGzQ11HsqKp"
      }
    },
    {
      "cell_type": "code",
      "source": [
        "!wget https://cv.snu.ac.kr/research/EDSR/models/edsr_baseline_x4-6b446fab.pt"
      ],
      "metadata": {
        "colab": {
          "base_uri": "https://localhost:8080/"
        },
        "id": "x7aoN469nLyE",
        "outputId": "bba14dfa-ce96-4c8c-bc8c-ce08db9480a2"
      },
      "execution_count": null,
      "outputs": [
        {
          "output_type": "stream",
          "name": "stdout",
          "text": [
            "--2025-07-02 19:29:58--  https://cv.snu.ac.kr/research/EDSR/models/edsr_baseline_x4-6b446fab.pt\n",
            "Resolving cv.snu.ac.kr (cv.snu.ac.kr)... 147.46.67.83\n",
            "Connecting to cv.snu.ac.kr (cv.snu.ac.kr)|147.46.67.83|:443... connected.\n",
            "HTTP request sent, awaiting response... 200 OK\n",
            "Length: 6081831 (5.8M)\n",
            "Saving to: ‘edsr_baseline_x4-6b446fab.pt’\n",
            "\n",
            "edsr_baseline_x4-6b 100%[===================>]   5.80M  2.82MB/s    in 2.1s    \n",
            "\n",
            "2025-07-02 19:30:01 (2.82 MB/s) - ‘edsr_baseline_x4-6b446fab.pt’ saved [6081831/6081831]\n",
            "\n"
          ]
        }
      ]
    },
    {
      "cell_type": "markdown",
      "source": [
        "for the below pretrained weights,\n",
        "in the model args add this\n",
        "args.scale = [4]\n",
        "args.n_resblocks = 32\n",
        "args.n_feats = 256\n",
        "\n",
        "but using this i am getting only 0.0029\n",
        "but this more stronger weight"
      ],
      "metadata": {
        "id": "uQdoE-eVsun6"
      }
    },
    {
      "cell_type": "code",
      "source": [
        "!wget https://cv.snu.ac.kr/research/EDSR/models/edsr_x4-4f62e9ef.pt"
      ],
      "metadata": {
        "colab": {
          "base_uri": "https://localhost:8080/"
        },
        "id": "MCNr3PYEn4XI",
        "outputId": "47353294-bb7e-4cfb-b97d-fc4fe27d73bf"
      },
      "execution_count": null,
      "outputs": [
        {
          "output_type": "stream",
          "name": "stdout",
          "text": [
            "--2025-07-02 19:32:53--  https://cv.snu.ac.kr/research/EDSR/models/edsr_x4-4f62e9ef.pt\n",
            "Resolving cv.snu.ac.kr (cv.snu.ac.kr)... 147.46.67.83\n",
            "Connecting to cv.snu.ac.kr (cv.snu.ac.kr)|147.46.67.83|:443... connected.\n",
            "HTTP request sent, awaiting response... 200 OK\n",
            "Length: 172381555 (164M)\n",
            "Saving to: ‘edsr_x4-4f62e9ef.pt’\n",
            "\n",
            "edsr_x4-4f62e9ef.pt 100%[===================>] 164.40M  4.86MB/s    in 36s     \n",
            "\n",
            "2025-07-02 19:33:30 (4.58 MB/s) - ‘edsr_x4-4f62e9ef.pt’ saved [172381555/172381555]\n",
            "\n"
          ]
        }
      ]
    },
    {
      "cell_type": "code",
      "source": [
        "from PIL import Image\n",
        "import torch\n",
        "import torchvision.transforms as T\n",
        "from skimage.metrics import structural_similarity as compare_ssim\n",
        "import numpy as np\n",
        "import sys\n",
        "import types\n",
        "\n",
        "sys.path.append('src')\n",
        "from model import edsr\n",
        "\n",
        "device = torch.device('cuda' if torch.cuda.is_available() else 'cpu')\n",
        "\n",
        "# Load HR image\n",
        "hr_path = '/content/0004.png'\n",
        "hr_img = Image.open(hr_path).convert('RGB')\n",
        "\n",
        "# Make LR image by downscaling by ×4\n",
        "scale_factor = 4\n",
        "lr_w, lr_h = hr_img.width // scale_factor, hr_img.height // scale_factor\n",
        "lr_img = hr_img.resize((lr_w, lr_h), Image.BICUBIC)\n",
        "\n",
        "# Transform to tensor\n",
        "to_tensor = T.ToTensor()\n",
        "lr_tensor = to_tensor(lr_img).unsqueeze(0).to(device) * 255  # model expects [0,255]\n",
        "hr_tensor = to_tensor(hr_img).unsqueeze(0).to(device) * 255\n",
        "\n",
        "# Model args (match pretrained model)\n",
        "args = types.SimpleNamespace()\n",
        "args.scale = [4]\n",
        "args.n_resblocks = 16\n",
        "args.n_feats = 64\n",
        "args.rgb_range = 255\n",
        "args.n_colors = 3\n",
        "args.res_scale = 1\n",
        "\n",
        "# Load model and weights\n",
        "model = edsr.EDSR(args).to(device)\n",
        "ckpt = torch.load('/content/EDSR-PyTorch/edsr_baseline_x4-6b446fab.pt', map_location=device)\n",
        "model.load_state_dict(ckpt, strict=True)\n",
        "model.eval()\n",
        "\n",
        "print(f\"LR tensor shape: {lr_tensor.shape}\")\n",
        "print(f\"HR tensor shape: {hr_tensor.shape}\")\n",
        "lr_upscaled = lr_img.resize((hr_img.width, hr_img.height), Image.BICUBIC)\n",
        "lr_upscaled_np = np.array(lr_upscaled).astype(np.float32) / 255.0\n",
        "hr_np = np.array(hr_img).astype(np.float32) / 255.0\n",
        "\n",
        "ssim_bicubic = compare_ssim(hr_np, lr_upscaled_np, channel_axis=-1, data_range=1.0)\n",
        "print(f\"SSIM bicubic: {ssim_bicubic:.4f}\")\n",
        "\n",
        "with torch.no_grad():\n",
        "    output = model(lr_tensor)\n",
        "    print(f\"Output tensor shape: {output.shape}\")\n",
        "    output = output.clamp(0, args.rgb_range) / args.rgb_range  # back to [0,1]\n",
        "    hr_tensor_norm = hr_tensor / args.rgb_range\n",
        "\n",
        "    # Convert to numpy\n",
        "    sr_img_np = output.squeeze(0).permute(1,2,0).cpu().numpy()\n",
        "    hr_img_np = hr_tensor_norm.squeeze(0).permute(1,2,0).cpu().numpy()\n",
        "\n",
        "    # Ensure same size\n",
        "    min_h = min(sr_img_np.shape[0], hr_img_np.shape[0])\n",
        "    min_w = min(sr_img_np.shape[1], hr_img_np.shape[1])\n",
        "    sr_img_np = sr_img_np[:min_h, :min_w, :]\n",
        "    hr_img_np = hr_img_np[:min_h, :min_w, :]\n",
        "\n",
        "    # Compute SSIM safely\n",
        "    min_side = min(hr_img_np.shape[0], hr_img_np.shape[1])\n",
        "    win_size = min(7, min_side)\n",
        "    if win_size %2==0: win_size-=1\n",
        "    if win_size<3: win_size=3\n",
        "\n",
        "    ssim_score = compare_ssim(\n",
        "        hr_img_np, sr_img_np,\n",
        "        data_range=1.0,\n",
        "        channel_axis=-1,\n",
        "        win_size=win_size\n",
        "    )\n",
        "    print(f'SSIM (win_size={win_size}): {ssim_score:.4f}')\n",
        "\n"
      ],
      "metadata": {
        "colab": {
          "base_uri": "https://localhost:8080/"
        },
        "id": "tFECRUMlpHuR",
        "outputId": "205a3ff9-b00a-4082-be97-d92c8f49eb75"
      },
      "execution_count": null,
      "outputs": [
        {
          "output_type": "stream",
          "name": "stdout",
          "text": [
            "LR tensor shape: torch.Size([1, 3, 336, 510])\n",
            "HR tensor shape: torch.Size([1, 3, 1344, 2040])\n",
            "SSIM bicubic: 0.8753\n",
            "Output tensor shape: torch.Size([1, 3, 1344, 2040])\n",
            "SSIM (win_size=7): 0.9014\n"
          ]
        }
      ]
    }
  ]
}