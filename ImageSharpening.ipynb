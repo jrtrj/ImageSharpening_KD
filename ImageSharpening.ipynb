{
  "nbformat": 4,
  "nbformat_minor": 0,
  "metadata": {
    "colab": {
      "provenance": [],
      "gpuType": "T4",
      "authorship_tag": "ABX9TyNQ3nS1DNdJTkhDPjsTR3Ep",
      "include_colab_link": true
    },
    "kernelspec": {
      "name": "python3",
      "display_name": "Python 3"
    },
    "language_info": {
      "name": "python"
    },
    "accelerator": "GPU"
  },
  "cells": [
    {
      "cell_type": "markdown",
      "metadata": {
        "id": "view-in-github",
        "colab_type": "text"
      },
      "source": [
        "<a href=\"https://colab.research.google.com/github/jrtrj/ImageSharpening_KD/blob/local/ImageSharpening.ipynb\" target=\"_parent\"><img src=\"https://colab.research.google.com/assets/colab-badge.svg\" alt=\"Open In Colab\"/></a>"
      ]
    },
    {
      "cell_type": "code",
      "execution_count": null,
      "metadata": {
        "id": "ZgCzTfKcluyD",
        "collapsed": true
      },
      "outputs": [],
      "source": [
        "!pip install pytorch-msssim\n",
        "!pip install albumentations==1.3.1\n",
        "\n",
        "import os\n",
        "import cv2\n",
        "import glob\n",
        "import numpy as np\n",
        "import torch\n",
        "import torch.nn as nn\n",
        "import torch.optim as optim\n",
        "from torch.utils.data import random_split, Dataset, DataLoader\n",
        "import torchvision.transforms as transforms\n",
        "import torchvision.models as models\n",
        "from pytorch_msssim import ssim as ssim_loss\n",
        "import albumentations as A\n",
        "from albumentations.pytorch import ToTensorV2\n",
        "from skimage.metrics import structural_similarity as ssim\n",
        "from torch.optim.lr_scheduler import CosineAnnealingLR\n",
        "import matplotlib.pyplot as plt"
      ]
    },
    {
      "cell_type": "code",
      "source": [
        "class DIV2KDatasetAugmented(Dataset):\n",
        "    def __init__(self, hr_dir):\n",
        "        self.hr_paths = sorted(glob.glob(os.path.join(hr_dir, \"*.png\")))\n",
        "        self.degradation_transform = A.Compose([\n",
        "            A.OneOf([\n",
        "                A.GaussianBlur(blur_limit=(3, 7), p=0.7),\n",
        "                A.MotionBlur(blur_limit=(3, 7), p=0.3),\n",
        "            ], p=1.0),\n",
        "            A.Downscale(scale_min=0.6, scale_max=0.8, interpolation=cv2.INTER_CUBIC, p=0.5),\n",
        "            A.GaussNoise(var_limit=(10, 50), p=0.3),\n",
        "        ])\n",
        "\n",
        "        self.to_tensor = A.Compose([\n",
        "            A.Normalize(mean=[0, 0, 0], std=[1, 1, 1]),\n",
        "            A.pytorch.ToTensorV2()\n",
        "        ])\n",
        "\n",
        "    def __len__(self):\n",
        "        return len(self.hr_paths)\n",
        "\n",
        "    def __getitem__(self, idx):\n",
        "        img_hr_np = cv2.imread(self.hr_paths[idx])\n",
        "        img_hr_np = cv2.cvtColor(img_hr_np, cv2.COLOR_BGR2RGB)\n",
        "        img_hr_np = cv2.resize(img_hr_np, (128, 128))\n",
        "\n",
        "        img_degraded_np = self.degradation_transform(image=img_hr_np)['image']\n",
        "\n",
        "        img_hr = self.to_tensor(image=img_hr_np)['image']\n",
        "        img_degraded = self.to_tensor(image=img_degraded_np)['image']\n",
        "\n",
        "        return img_degraded, img_hr"
      ],
      "metadata": {
        "id": "giD3pBDQg_xl"
      },
      "execution_count": 16,
      "outputs": []
    },
    {
      "cell_type": "code",
      "source": [
        "class ResidualBlock(nn.Module):\n",
        "    def __init__(self, channels):\n",
        "        super(ResidualBlock, self).__init__()\n",
        "        self.conv1, self.bn1 = nn.Conv2d(channels, channels, 3, 1, 1), nn.BatchNorm2d(channels)\n",
        "        self.conv2, self.bn2 = nn.Conv2d(channels, channels, 3, 1, 1), nn.BatchNorm2d(channels)\n",
        "        self.relu = nn.ReLU(inplace=True)\n",
        "    def forward(self, x): return self.relu(x + self.bn2(self.conv2(self.relu(self.bn1(self.conv1(x))))))\n",
        "\n",
        "class ResNetSharpen(nn.Module):\n",
        "    def __init__(self, num_blocks=8):\n",
        "        super(ResNetSharpen, self).__init__()\n",
        "        self.conv_in = nn.Conv2d(3, 64, 3, 1, 1)\n",
        "        self.relu = nn.ReLU(inplace=True)\n",
        "        self.residual_layers = nn.Sequential(*[ResidualBlock(64) for _ in range(num_blocks)])\n",
        "        self.conv_out = nn.Conv2d(64, 3, 3, 1, 1) # Output should have 3 channels to match input\n",
        "\n",
        "    def forward(self, x):\n",
        "        identity = x\n",
        "        out = self.conv_in(x)\n",
        "        out = self.relu(out)\n",
        "        out = self.residual_layers(out)\n",
        "        out = self.conv_out(out)\n",
        "        return identity + out # Add the residual connection here\n",
        "\n",
        "class StudentCNN(nn.Module):\n",
        "    def __init__(self):\n",
        "        super(StudentCNN, self).__init__()\n",
        "        self.body = nn.Sequential(nn.Conv2d(3,32,3,1,1), nn.ReLU(True), nn.Conv2d(32,32,3,1,1), nn.ReLU(True), nn.Conv2d(32,3,3,1,1))\n",
        "    def forward(self, x): return x - self.body(x)"
      ],
      "metadata": {
        "id": "Wwgef6mWbIIS"
      },
      "execution_count": 18,
      "outputs": []
    },
    {
      "cell_type": "code",
      "source": [
        "# Perceptual Loss using a pre-trained VGG19\n",
        "from torchvision.models import vgg19, VGG19_Weights\n",
        "\n",
        "class VGGPerceptualLoss(nn.Module):\n",
        "    def __init__(self):\n",
        "        super(VGGPerceptualLoss, self).__init__()\n",
        "        weights = VGG19_Weights.DEFAULT\n",
        "        vgg = vgg19(weights=weights).features.to(device).eval()\n",
        "        for param in vgg.parameters(): param.requires_grad = False\n",
        "        self.feature_extractor = nn.Sequential(*list(vgg.children())[:36])\n",
        "        self.loss_fn = nn.L1Loss()\n",
        "\n",
        "    def forward(self, pred, target):\n",
        "        pred_features = self.feature_extractor(pred)\n",
        "        target_features = self.feature_extractor(target)\n",
        "        return self.loss_fn(pred_features, target_features)\n",
        "\n",
        "# A total loss function combining all criteria\n",
        "class TotalLoss(nn.Module):\n",
        "    def __init__(self, ssim_w=0.8, perceptual_w=0.01):\n",
        "        super(TotalLoss, self).__init__()\n",
        "        self.ssim_w = ssim_w\n",
        "        self.perceptual_w = perceptual_w\n",
        "        self.mse = nn.MSELoss()\n",
        "        self.ssim = lambda p, t: 1 - ssim_loss(p, t, data_range=1.0, size_average=True)\n",
        "        self.perceptual = VGGPerceptualLoss()\n",
        "\n",
        "    def forward(self, pred, target):\n",
        "        ssim_mse_loss = self.ssim_w * self.ssim(pred, target) + (1 - self.ssim_w) * self.mse(pred, target)\n",
        "        perceptual_loss = self.perceptual(pred, target)\n",
        "        return ssim_mse_loss + self.perceptual_w * perceptual_loss"
      ],
      "metadata": {
        "id": "iH5MGWHZwXzt"
      },
      "execution_count": 19,
      "outputs": []
    },
    {
      "cell_type": "code",
      "source": [
        "data_dir = \"/content/DIV2K_train_HR\"\n",
        "full_dataset = DIV2KDatasetAugmented(data_dir)\n",
        "\n",
        "# 90% for training, 10% for validation\n",
        "train_size = int(0.9 * len(full_dataset))\n",
        "val_size = len(full_dataset) - train_size\n",
        "\n",
        "generator = torch.Generator().manual_seed(42)\n",
        "\n",
        "train_dataset, val_dataset = random_split(full_dataset, [train_size, val_size], generator=generator)\n",
        "\n",
        "train_loader = DataLoader(train_dataset, batch_size=8, shuffle=True)\n",
        "val_loader = DataLoader(val_dataset, batch_size=8, shuffle=False)\n",
        "\n",
        "print(f\"Training samples: {len(train_dataset)}\")\n",
        "print(f\"Validation samples: {len(val_dataset)}\")"
      ],
      "metadata": {
        "colab": {
          "base_uri": "https://localhost:8080/"
        },
        "id": "GFROM0OzwlA1",
        "outputId": "446f005b-4d12-4307-d759-b686d6e44925"
      },
      "execution_count": 20,
      "outputs": [
        {
          "output_type": "stream",
          "name": "stdout",
          "text": [
            "Training samples: 360\n",
            "Validation samples: 40\n"
          ]
        }
      ]
    },
    {
      "cell_type": "code",
      "source": [
        "# : Train the Teacher Model ---\n",
        "\n",
        "device = torch.device(\"cuda\" if torch.cuda.is_available() else \"cpu\")\n",
        "teacher_model = ResNetSharpen(num_blocks=8).to(device)\n",
        "\n",
        "criterion = TotalLoss(ssim_w=0.8, perceptual_w=0.01).to(device)\n",
        "optimizer = optim.Adam(teacher_model.parameters(), lr=1e-4)\n",
        "epochs = 10\n",
        "scheduler = CosineAnnealingLR(optimizer, T_max=epochs)\n",
        "\n",
        "print(\"--- Starting Training for the teacher Model ---\")\n",
        "\n",
        "def evaluate_ssim(model, loader):\n",
        "    print(\"Evaluating SSIM...\")\n",
        "    model.eval()\n",
        "    total_ssim = 0\n",
        "    count = 0\n",
        "    with torch.no_grad():\n",
        "        for i, (inputs, targets) in enumerate(loader):\n",
        "            inputs, targets = inputs.to(device), targets.to(device)\n",
        "            outputs = model(inputs)\n",
        "            score = ssim_loss(outputs, targets, data_range=1.0, size_average=True)\n",
        "            total_ssim += score.item() * inputs.size(0)\n",
        "            count += inputs.size(0)\n",
        "    return total_ssim / count\n",
        "\n",
        "\n",
        "for epoch in range(epochs):\n",
        "    teacher_model.train()\n",
        "    running_loss = 0.0\n",
        "    for inputs, targets in train_loader:\n",
        "        inputs, targets = inputs.to(device), targets.to(device)\n",
        "        optimizer.zero_grad()\n",
        "        outputs = teacher_model(inputs)\n",
        "        loss = criterion(outputs, targets)\n",
        "        loss.backward()\n",
        "        optimizer.step()\n",
        "        running_loss += loss.item()\n",
        "\n",
        "    scheduler.step()\n",
        "    train_loss = running_loss / len(train_loader)\n",
        "\n",
        "    val_ssim = evaluate_ssim(teacher_model, val_loader)\n",
        "\n",
        "    print(f\"Epoch {epoch+1}/{epochs} | Train Loss: {train_loss:.5f} | Val SSIM: {val_ssim:.4f}\")\n",
        "\n",
        "torch.save(teacher_model.state_dict(), \"teacher.pth\")"
      ],
      "metadata": {
        "id": "yZs92Rdxwx1I"
      },
      "execution_count": null,
      "outputs": []
    },
    {
      "cell_type": "code",
      "source": [
        "torch.save(teacher_model.state_dict(), \"teacher.pth\")"
      ],
      "metadata": {
        "id": "kJa9_cdlxS_Z"
      },
      "execution_count": 22,
      "outputs": []
    },
    {
      "cell_type": "code",
      "source": [
        "teacher_model.load_state_dict(torch.load(\"teacher.pth\"))\n",
        "teacher_model.eval()\n",
        "\n",
        "student_model = StudentCNN().to(device)\n",
        "optimizer = optim.Adam(student_model.parameters(), lr=1e-4)\n",
        "distill_epochs = 20\n",
        "\n",
        "def distillation_loss(s_out, t_out, target, alpha=0.75):\n",
        "    loss_teacher = nn.MSELoss()(s_out, t_out)\n",
        "    loss_gt = nn.MSELoss()(s_out, target)\n",
        "    return alpha * loss_teacher + (1 - alpha) * loss_gt\n",
        "\n",
        "print(\"\\n--- Starting Knowledge Distillation from Teacher ---\")\n",
        "\n",
        "for epoch in range(distill_epochs):\n",
        "    student_model.train()\n",
        "    for inputs, targets in train_loader:\n",
        "        inputs, targets = inputs.to(device), targets.to(device)\n",
        "\n",
        "        with torch.no_grad():\n",
        "            teacher_out = teacher_model(inputs)\n",
        "\n",
        "        student_out = student_model(inputs)\n",
        "\n",
        "        loss = distillation_loss(student_out, teacher_out, targets)\n",
        "\n",
        "        optimizer.zero_grad()\n",
        "        loss.backward()\n",
        "        optimizer.step()\n",
        "\n",
        "    student_val_ssim = evaluate_ssim(student_model, val_loader)\n",
        "    print(f\"[Student] Epoch {epoch+1}/{distill_epochs} | Val SSIM: {student_val_ssim:.4f}\")\n",
        "\n",
        "torch.save(student_model.state_dict(), \"student_final.pth\")"
      ],
      "metadata": {
        "id": "GXglJvy_xaM3"
      },
      "execution_count": null,
      "outputs": []
    },
    {
      "cell_type": "code",
      "source": [
        "teacher_model.eval()\n",
        "student_model.eval()\n",
        "\n",
        "print(\"\\n--- Final Model Performance on the Unseen Validation Set ---\")\n",
        "\n",
        "final_teacher_ssim = evaluate_ssim(teacher_model, val_loader)\n",
        "final_student_ssim = evaluate_ssim(student_model, val_loader)\n",
        "\n",
        "print(f\"Teacher SSIM: {final_teacher_ssim:.4f}\")\n",
        "print(f\"Final Distilled Student SSIM: {final_student_ssim:.4f}\")\n",
        "\n",
        "\n",
        "def visualize_results(dataset, num_images=5):\n",
        "    print(\"\\n--- Visualizing Model Outputs ---\")\n",
        "\n",
        "    for i in range(num_images):\n",
        "        input_img, target_img = dataset[i]\n",
        "\n",
        "        input_tensor = input_img.unsqueeze(0).to(device)\n",
        "\n",
        "        with torch.no_grad():\n",
        "            student_out = student_model(input_tensor)\n",
        "            teacher_out = teacher_model(input_tensor)\n",
        "\n",
        "        input_np = input_img.cpu().permute(1, 2, 0).numpy()\n",
        "        target_np = target_img.cpu().permute(1, 2, 0).numpy()\n",
        "        student_np = student_out.squeeze(0).cpu().permute(1, 2, 0).numpy()\n",
        "        teacher_np = teacher_out.squeeze(0).cpu().permute(1, 2, 0).numpy()\n",
        "\n",
        "        ssim_score = ssim(target_np, student_np, channel_axis=2, data_range=1.0)\n",
        "\n",
        "        fig, axes = plt.subplots(1, 4, figsize=(20, 5))\n",
        "\n",
        "        axes[0].imshow(input_np)\n",
        "        axes[0].set_title(\"Degraded Input\")\n",
        "        axes[0].axis(\"off\")\n",
        "\n",
        "        axes[1].imshow(student_np)\n",
        "        axes[1].set_title(f\"Student Output\\nSSIM: {ssim_score:.4f}\")\n",
        "        axes[1].axis(\"off\")\n",
        "\n",
        "        axes[2].imshow(teacher_np)\n",
        "        axes[2].set_title(\"Teacher Output\")\n",
        "        axes[2].axis(\"off\")\n",
        "\n",
        "        axes[3].imshow(target_np)\n",
        "        axes[3].set_title(\"Ground Truth (Original)\")\n",
        "        axes[3].axis(\"off\")\n",
        "\n",
        "        plt.show()\n",
        "\n",
        "visualize_results(val_dataset)"
      ],
      "metadata": {
        "id": "eGARBuhrxuDC"
      },
      "execution_count": null,
      "outputs": []
    }
  ]
}